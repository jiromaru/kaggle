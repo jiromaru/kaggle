{
  "cells": [
    {
      "metadata": {
        "_uuid": "8f2839f25d086af736a60e9eeb907d3b93b6e0e5",
        "_cell_guid": "b1076dfc-b9ad-4769-8c92-a6c4dae69d19",
        "trusted": true
      },
      "cell_type": "code",
      "source": "# This Python 3 environment comes with many helpful analytics libraries installed\n# It is defined by the kaggle/python docker image: https://github.com/kaggle/docker-python\n# For example, here's several helpful packages to load in \n\nimport numpy as np # linear algebra\nimport pandas as pd # data processing, CSV file I/O (e.g. pd.read_csv)\n\n# Input data files are available in the \"../input/\" directory.\n# For example, running this (by clicking run or pressing Shift+Enter) will list the files in the input directory\n\nimport os\nprint(os.listdir(\"../input\"))\n\n# Any results you write to the current directory are saved as output.",
      "execution_count": null,
      "outputs": []
    },
    {
      "metadata": {
        "_cell_guid": "79c7e3d0-c299-4dcb-8224-4455121ee9b0",
        "_uuid": "d629ff2d2480ee46fbb7e2d37f6b5fab8052498a",
        "trusted": true
      },
      "cell_type": "code",
      "source": "import numpy as np\nimport pandas as pd\nimport seaborn as sns\nimport matplotlib.pyplot as plt\n\ntest = pd.read_csv('../input/test.csv')\ntrain = pd.read_csv('../input/train.csv')",
      "execution_count": null,
      "outputs": []
    },
    {
      "metadata": {
        "trusted": true,
        "_uuid": "1005ecbe4ee216e4870cccbd2f39edd8602644c3"
      },
      "cell_type": "code",
      "source": "print(test.shape)\nprint(train.shape)\nprint(test.describe())\nprint(train.describe())\nprint(test.isnull().sum())\nprint(train.isnull().sum())\n#欠損はtrainもtestもなし",
      "execution_count": null,
      "outputs": []
    },
    {
      "metadata": {
        "trusted": true,
        "_uuid": "bb170b357e4918ec86fc18e8a9f006aaf0bd61b6"
      },
      "cell_type": "code",
      "source": "#store は　1-10\n#itemは1-50\n#dateは2013/1/1-2017/12/31の日時データ\nprint(train[\"store\"].unique())\nprint(train[\"item\"].unique())\nprint(train[\"date\"].unique())",
      "execution_count": null,
      "outputs": []
    },
    {
      "metadata": {
        "trusted": true,
        "_uuid": "a0ed9e720c207f6101a9e18981babb5eed6e5f77"
      },
      "cell_type": "code",
      "source": "import seaborn as sns\nimport matplotlib.pyplot as plt\nplt.figure(figsize=(10,4))\nplt.xlim(train.item.min(), train.item.max()*1.1)\nsns.boxplot(x=train.item)\nplt.figure(figsize=(10,4))\nplt.xlim(train.sales.min(), train.sales.max()*1.1)\nsns.boxplot(x=train.sales)\n#髭の長さは箱の長さの1.5倍までらしく、それをはみ出たものを外れ値としてプロットしてる。\n#つまり第一四分位点から第三四分位点までの長さ×1.5",
      "execution_count": null,
      "outputs": []
    },
    {
      "metadata": {
        "trusted": true,
        "_uuid": "8899a730893ee85ae2901d401f764a20e6f938c0"
      },
      "cell_type": "code",
      "source": "plt.figure(figsize=(10,4))\nsns.distplot(train[\"sales\"])",
      "execution_count": null,
      "outputs": []
    },
    {
      "metadata": {
        "trusted": true,
        "scrolled": true,
        "_uuid": "4e3858de9f35aaf70aa4a28bed86441c564d2893"
      },
      "cell_type": "code",
      "source": "from fbprophet import Prophet\nfrom multiprocessing import Pool\nimport multiprocessing as multi\n\n#prophetに突っ込む準備\ntrain2=train.rename(columns={\"date\":\"ds\",\"sales\":\"y\"})\n\ndef use_prophet(ids):\n    shop_id,item_id=ids\n    #print(shop_id,item_id)\n    temp=train2[(train2[\"store\"]==shop_id) & (train2[\"item\"]==item_id)][[\"ds\",\"y\"]]\n    if len(temp.index)==0:\n        pred=0\n    elif len(temp.index)==1:\n        pred=temp[\"y\"].tail(1)\n    else:\n        #train[\"cap\"]=2500\n        #growth=\"logistic\",\n        model=Prophet(yearly_seasonality=True)\n        model.fit(temp)\n        future = model.make_future_dataframe(periods=90)\n        #future[\"cap\"]=2500\n        forecast = model.predict(future)\n        pred=forecast[\"yhat\"].tail(90)\n    return pred\n\nid_list=test[[\"store\",\"item\"]].values.tolist()\nid_list2=[]\nfor i in id_list:\n    if i not in id_list2:\n        id_list2.append(i)\n        \np = Pool(multi.cpu_count())\nresult=p.map(use_prophet, id_list2)\np.close()",
      "execution_count": null,
      "outputs": []
    },
    {
      "metadata": {
        "trusted": true,
        "_uuid": "66097d84d69f6d97050a9ded192375a7c322ea43"
      },
      "cell_type": "code",
      "source": "result_list=[]\nfor j in result:\n    result_list.extend(j.values.tolist())\n\nsubmission=pd.DataFrame({\n    \"id\" : test[\"id\"],\n    \"sales\" : result_list\n})",
      "execution_count": null,
      "outputs": []
    },
    {
      "metadata": {
        "trusted": true,
        "_uuid": "a7154877d90343fbb480c8a2b5a5453f797b3ba4"
      },
      "cell_type": "code",
      "source": "submission.to_csv(\"submission_prophet.csv\", index=False)",
      "execution_count": null,
      "outputs": []
    }
  ],
  "metadata": {
    "kernelspec": {
      "display_name": "Python 3",
      "language": "python",
      "name": "python3"
    },
    "language_info": {
      "name": "python",
      "version": "3.6.6",
      "mimetype": "text/x-python",
      "codemirror_mode": {
        "name": "ipython",
        "version": 3
      },
      "pygments_lexer": "ipython3",
      "nbconvert_exporter": "python",
      "file_extension": ".py"
    }
  },
  "nbformat": 4,
  "nbformat_minor": 1
}