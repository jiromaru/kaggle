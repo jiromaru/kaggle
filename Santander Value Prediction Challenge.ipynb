{
  "cells": [
    {
      "metadata": {
        "_uuid": "8f2839f25d086af736a60e9eeb907d3b93b6e0e5",
        "_cell_guid": "b1076dfc-b9ad-4769-8c92-a6c4dae69d19",
        "trusted": true
      },
      "cell_type": "code",
      "source": "# This Python 3 environment comes with many helpful analytics libraries installed\n# It is defined by the kaggle/python docker image: https://github.com/kaggle/docker-python\n# For example, here's several helpful packages to load in \n\nimport numpy as np # linear algebra\nimport pandas as pd # data processing, CSV file I/O (e.g. pd.read_csv)\nimport matplotlib.pyplot as plt\nimport seaborn as sns\n\n# Input data files are available in the \"../input/\" directory.\n# For example, running this (by clicking run or pressing Shift+Enter) will list the files in the input directory\n\nimport os\nprint(os.listdir(\"../input\"))\n\n# Any results you write to the current directory are saved as output.",
      "execution_count": 1,
      "outputs": [
        {
          "output_type": "stream",
          "text": "['train.csv', 'sample_submission.csv', 'test.csv']\n",
          "name": "stdout"
        }
      ]
    },
    {
      "metadata": {
        "_cell_guid": "79c7e3d0-c299-4dcb-8224-4455121ee9b0",
        "_uuid": "d629ff2d2480ee46fbb7e2d37f6b5fab8052498a",
        "trusted": true,
        "scrolled": true
      },
      "cell_type": "code",
      "source": "train=pd.read_csv(\"../input/train.csv\")\ntest=pd.read_csv(\"../input/test.csv\")",
      "execution_count": 2,
      "outputs": []
    },
    {
      "metadata": {
        "trusted": true,
        "_uuid": "0f198a6aef557fd5ffe2a2edbfb6c7cf4dd6681a",
        "scrolled": true
      },
      "cell_type": "code",
      "source": "#変数は匿名化されているらしく、何を意味するものか分からない。\ntest.head()",
      "execution_count": 4,
      "outputs": [
        {
          "output_type": "execute_result",
          "execution_count": 4,
          "data": {
            "text/plain": "          ID  48df886f9  0deb4b6a8    ...      fb36b89d9  7e293fbaf  9fc776466\n0  000137c73        0.0        0.0    ...            0.0        0.0        0.0\n1  00021489f        0.0        0.0    ...            0.0        0.0        0.0\n2  0004d7953        0.0        0.0    ...            0.0        0.0        0.0\n3  00056a333        0.0        0.0    ...            0.0        0.0        0.0\n4  00056d8eb        0.0        0.0    ...            0.0        0.0        0.0\n\n[5 rows x 4992 columns]",
            "text/html": "<div>\n<style scoped>\n    .dataframe tbody tr th:only-of-type {\n        vertical-align: middle;\n    }\n\n    .dataframe tbody tr th {\n        vertical-align: top;\n    }\n\n    .dataframe thead th {\n        text-align: right;\n    }\n</style>\n<table border=\"1\" class=\"dataframe\">\n  <thead>\n    <tr style=\"text-align: right;\">\n      <th></th>\n      <th>ID</th>\n      <th>48df886f9</th>\n      <th>0deb4b6a8</th>\n      <th>34b15f335</th>\n      <th>a8cb14b00</th>\n      <th>2f0771a37</th>\n      <th>30347e683</th>\n      <th>d08d1fbe3</th>\n      <th>6ee66e115</th>\n      <th>20aa07010</th>\n      <th>dc5a8f1d8</th>\n      <th>11d86fa6a</th>\n      <th>77c9823f2</th>\n      <th>8d6c2a0b2</th>\n      <th>4681de4fd</th>\n      <th>adf119b9a</th>\n      <th>cff75dd09</th>\n      <th>96f83a237</th>\n      <th>b8a716ebf</th>\n      <th>6c7a4567c</th>\n      <th>4fcfd2b4d</th>\n      <th>f3b9c0b95</th>\n      <th>71cebf11c</th>\n      <th>d966ac62c</th>\n      <th>68b647452</th>\n      <th>c88d108c9</th>\n      <th>ff7b471cd</th>\n      <th>d5308d8bc</th>\n      <th>0d866c3d7</th>\n      <th>bc3f77679</th>\n      <th>bd8f989f1</th>\n      <th>0eff5bf95</th>\n      <th>22ed6dba3</th>\n      <th>92b13ebba</th>\n      <th>c330f1a67</th>\n      <th>233c7c17c</th>\n      <th>2cb4d123e</th>\n      <th>eeac16933</th>\n      <th>87ffda550</th>\n      <th>822e49b95</th>\n      <th>...</th>\n      <th>969caa87a</th>\n      <th>00302fe51</th>\n      <th>1189ee335</th>\n      <th>ca04a07ca</th>\n      <th>f6f15ffa5</th>\n      <th>841704460</th>\n      <th>ea5ed6ff7</th>\n      <th>b1bb8eac3</th>\n      <th>8132d18b8</th>\n      <th>c24ea6548</th>\n      <th>cdfc2b069</th>\n      <th>2a879b4f7</th>\n      <th>6b119d8ce</th>\n      <th>98dea9e42</th>\n      <th>9f2471031</th>\n      <th>88458cb21</th>\n      <th>f40da20f4</th>\n      <th>7ad6b38bd</th>\n      <th>c901e7df1</th>\n      <th>8f55955dc</th>\n      <th>85dcc913d</th>\n      <th>5ca0b9b0c</th>\n      <th>eab8abf7a</th>\n      <th>8d8bffbae</th>\n      <th>2a1f6c7f9</th>\n      <th>9437d8b64</th>\n      <th>5831f4c76</th>\n      <th>2e84e09c5</th>\n      <th>d45fd5508</th>\n      <th>a165f5761</th>\n      <th>3ecc09859</th>\n      <th>9281abeea</th>\n      <th>8675bec0b</th>\n      <th>3a13ed79a</th>\n      <th>f677d4d13</th>\n      <th>71b203550</th>\n      <th>137efaa80</th>\n      <th>fb36b89d9</th>\n      <th>7e293fbaf</th>\n      <th>9fc776466</th>\n    </tr>\n  </thead>\n  <tbody>\n    <tr>\n      <th>0</th>\n      <td>000137c73</td>\n      <td>0.0</td>\n      <td>0.0</td>\n      <td>0.0</td>\n      <td>0.0</td>\n      <td>0.0</td>\n      <td>0.0</td>\n      <td>0.0</td>\n      <td>0.0</td>\n      <td>0.0</td>\n      <td>0.0</td>\n      <td>0.0</td>\n      <td>0.0</td>\n      <td>0.0</td>\n      <td>0.0</td>\n      <td>0.0</td>\n      <td>0.0</td>\n      <td>0.0</td>\n      <td>0.0</td>\n      <td>0.0</td>\n      <td>0.0</td>\n      <td>0.0</td>\n      <td>0.0</td>\n      <td>0.0</td>\n      <td>0.0</td>\n      <td>0.0</td>\n      <td>0.0</td>\n      <td>5.528249e+06</td>\n      <td>0.0</td>\n      <td>0.0</td>\n      <td>0.0</td>\n      <td>0.0</td>\n      <td>0.0</td>\n      <td>0.0</td>\n      <td>0.0</td>\n      <td>0.0</td>\n      <td>0.0</td>\n      <td>0.0</td>\n      <td>0.0</td>\n      <td>0.0</td>\n      <td>...</td>\n      <td>0.0</td>\n      <td>0.0</td>\n      <td>0.0</td>\n      <td>0.0</td>\n      <td>0.0</td>\n      <td>0.0</td>\n      <td>0.0</td>\n      <td>0.0</td>\n      <td>0.0</td>\n      <td>0.0</td>\n      <td>0.0</td>\n      <td>0.0</td>\n      <td>0.0</td>\n      <td>0.0</td>\n      <td>0.0</td>\n      <td>0.0</td>\n      <td>0.0</td>\n      <td>0.0</td>\n      <td>0.0</td>\n      <td>0.0</td>\n      <td>0.0</td>\n      <td>0.0</td>\n      <td>0.0</td>\n      <td>0.0</td>\n      <td>0.0</td>\n      <td>0.0</td>\n      <td>0.0</td>\n      <td>0.0</td>\n      <td>0.0</td>\n      <td>0.0</td>\n      <td>0.0</td>\n      <td>0.0</td>\n      <td>0.0</td>\n      <td>0.0</td>\n      <td>0.0</td>\n      <td>0.0</td>\n      <td>0.0</td>\n      <td>0.0</td>\n      <td>0.0</td>\n      <td>0.0</td>\n    </tr>\n    <tr>\n      <th>1</th>\n      <td>00021489f</td>\n      <td>0.0</td>\n      <td>0.0</td>\n      <td>0.0</td>\n      <td>0.0</td>\n      <td>0.0</td>\n      <td>0.0</td>\n      <td>0.0</td>\n      <td>0.0</td>\n      <td>0.0</td>\n      <td>0.0</td>\n      <td>0.0</td>\n      <td>0.0</td>\n      <td>0.0</td>\n      <td>0.0</td>\n      <td>0.0</td>\n      <td>0.0</td>\n      <td>0.0</td>\n      <td>0.0</td>\n      <td>0.0</td>\n      <td>0.0</td>\n      <td>0.0</td>\n      <td>0.0</td>\n      <td>0.0</td>\n      <td>0.0</td>\n      <td>0.0</td>\n      <td>0.0</td>\n      <td>0.000000e+00</td>\n      <td>0.0</td>\n      <td>0.0</td>\n      <td>0.0</td>\n      <td>0.0</td>\n      <td>0.0</td>\n      <td>0.0</td>\n      <td>0.0</td>\n      <td>0.0</td>\n      <td>0.0</td>\n      <td>0.0</td>\n      <td>0.0</td>\n      <td>0.0</td>\n      <td>...</td>\n      <td>0.0</td>\n      <td>0.0</td>\n      <td>0.0</td>\n      <td>0.0</td>\n      <td>0.0</td>\n      <td>0.0</td>\n      <td>0.0</td>\n      <td>0.0</td>\n      <td>0.0</td>\n      <td>0.0</td>\n      <td>0.0</td>\n      <td>0.0</td>\n      <td>0.0</td>\n      <td>0.0</td>\n      <td>0.0</td>\n      <td>0.0</td>\n      <td>0.0</td>\n      <td>0.0</td>\n      <td>0.0</td>\n      <td>0.0</td>\n      <td>0.0</td>\n      <td>0.0</td>\n      <td>0.0</td>\n      <td>0.0</td>\n      <td>0.0</td>\n      <td>0.0</td>\n      <td>0.0</td>\n      <td>0.0</td>\n      <td>0.0</td>\n      <td>0.0</td>\n      <td>0.0</td>\n      <td>0.0</td>\n      <td>0.0</td>\n      <td>0.0</td>\n      <td>0.0</td>\n      <td>0.0</td>\n      <td>0.0</td>\n      <td>0.0</td>\n      <td>0.0</td>\n      <td>0.0</td>\n    </tr>\n    <tr>\n      <th>2</th>\n      <td>0004d7953</td>\n      <td>0.0</td>\n      <td>0.0</td>\n      <td>0.0</td>\n      <td>0.0</td>\n      <td>0.0</td>\n      <td>0.0</td>\n      <td>0.0</td>\n      <td>0.0</td>\n      <td>0.0</td>\n      <td>0.0</td>\n      <td>0.0</td>\n      <td>0.0</td>\n      <td>0.0</td>\n      <td>0.0</td>\n      <td>0.0</td>\n      <td>0.0</td>\n      <td>0.0</td>\n      <td>0.0</td>\n      <td>0.0</td>\n      <td>0.0</td>\n      <td>0.0</td>\n      <td>0.0</td>\n      <td>0.0</td>\n      <td>0.0</td>\n      <td>0.0</td>\n      <td>0.0</td>\n      <td>0.000000e+00</td>\n      <td>0.0</td>\n      <td>0.0</td>\n      <td>0.0</td>\n      <td>0.0</td>\n      <td>0.0</td>\n      <td>0.0</td>\n      <td>0.0</td>\n      <td>0.0</td>\n      <td>0.0</td>\n      <td>0.0</td>\n      <td>0.0</td>\n      <td>0.0</td>\n      <td>...</td>\n      <td>0.0</td>\n      <td>0.0</td>\n      <td>0.0</td>\n      <td>0.0</td>\n      <td>0.0</td>\n      <td>0.0</td>\n      <td>0.0</td>\n      <td>0.0</td>\n      <td>0.0</td>\n      <td>0.0</td>\n      <td>0.0</td>\n      <td>0.0</td>\n      <td>0.0</td>\n      <td>0.0</td>\n      <td>0.0</td>\n      <td>0.0</td>\n      <td>0.0</td>\n      <td>0.0</td>\n      <td>0.0</td>\n      <td>0.0</td>\n      <td>0.0</td>\n      <td>0.0</td>\n      <td>0.0</td>\n      <td>0.0</td>\n      <td>0.0</td>\n      <td>0.0</td>\n      <td>5000000.0</td>\n      <td>0.0</td>\n      <td>0.0</td>\n      <td>0.0</td>\n      <td>0.0</td>\n      <td>0.0</td>\n      <td>0.0</td>\n      <td>0.0</td>\n      <td>0.0</td>\n      <td>0.0</td>\n      <td>0.0</td>\n      <td>0.0</td>\n      <td>0.0</td>\n      <td>0.0</td>\n    </tr>\n    <tr>\n      <th>3</th>\n      <td>00056a333</td>\n      <td>0.0</td>\n      <td>0.0</td>\n      <td>0.0</td>\n      <td>0.0</td>\n      <td>0.0</td>\n      <td>0.0</td>\n      <td>0.0</td>\n      <td>0.0</td>\n      <td>0.0</td>\n      <td>0.0</td>\n      <td>0.0</td>\n      <td>0.0</td>\n      <td>0.0</td>\n      <td>0.0</td>\n      <td>0.0</td>\n      <td>0.0</td>\n      <td>0.0</td>\n      <td>0.0</td>\n      <td>0.0</td>\n      <td>0.0</td>\n      <td>0.0</td>\n      <td>0.0</td>\n      <td>0.0</td>\n      <td>0.0</td>\n      <td>0.0</td>\n      <td>0.0</td>\n      <td>0.000000e+00</td>\n      <td>0.0</td>\n      <td>0.0</td>\n      <td>20884000.0</td>\n      <td>0.0</td>\n      <td>0.0</td>\n      <td>0.0</td>\n      <td>0.0</td>\n      <td>0.0</td>\n      <td>36252000.0</td>\n      <td>0.0</td>\n      <td>20000000.0</td>\n      <td>0.0</td>\n      <td>...</td>\n      <td>0.0</td>\n      <td>0.0</td>\n      <td>25010000.0</td>\n      <td>0.0</td>\n      <td>0.0</td>\n      <td>0.0</td>\n      <td>0.0</td>\n      <td>0.0</td>\n      <td>0.0</td>\n      <td>0.0</td>\n      <td>0.0</td>\n      <td>0.0</td>\n      <td>0.0</td>\n      <td>0.0</td>\n      <td>0.0</td>\n      <td>0.0</td>\n      <td>0.0</td>\n      <td>0.0</td>\n      <td>0.0</td>\n      <td>0.0</td>\n      <td>0.0</td>\n      <td>0.0</td>\n      <td>0.0</td>\n      <td>0.0</td>\n      <td>0.0</td>\n      <td>0.0</td>\n      <td>0.0</td>\n      <td>0.0</td>\n      <td>0.0</td>\n      <td>0.0</td>\n      <td>0.0</td>\n      <td>0.0</td>\n      <td>0.0</td>\n      <td>0.0</td>\n      <td>0.0</td>\n      <td>0.0</td>\n      <td>0.0</td>\n      <td>0.0</td>\n      <td>0.0</td>\n      <td>0.0</td>\n    </tr>\n    <tr>\n      <th>4</th>\n      <td>00056d8eb</td>\n      <td>0.0</td>\n      <td>0.0</td>\n      <td>0.0</td>\n      <td>0.0</td>\n      <td>0.0</td>\n      <td>0.0</td>\n      <td>0.0</td>\n      <td>0.0</td>\n      <td>0.0</td>\n      <td>0.0</td>\n      <td>0.0</td>\n      <td>0.0</td>\n      <td>0.0</td>\n      <td>0.0</td>\n      <td>0.0</td>\n      <td>0.0</td>\n      <td>0.0</td>\n      <td>0.0</td>\n      <td>0.0</td>\n      <td>0.0</td>\n      <td>0.0</td>\n      <td>0.0</td>\n      <td>0.0</td>\n      <td>0.0</td>\n      <td>0.0</td>\n      <td>0.0</td>\n      <td>0.000000e+00</td>\n      <td>0.0</td>\n      <td>0.0</td>\n      <td>0.0</td>\n      <td>0.0</td>\n      <td>0.0</td>\n      <td>0.0</td>\n      <td>0.0</td>\n      <td>0.0</td>\n      <td>0.0</td>\n      <td>0.0</td>\n      <td>0.0</td>\n      <td>0.0</td>\n      <td>...</td>\n      <td>0.0</td>\n      <td>0.0</td>\n      <td>0.0</td>\n      <td>0.0</td>\n      <td>0.0</td>\n      <td>0.0</td>\n      <td>0.0</td>\n      <td>0.0</td>\n      <td>0.0</td>\n      <td>0.0</td>\n      <td>0.0</td>\n      <td>0.0</td>\n      <td>0.0</td>\n      <td>0.0</td>\n      <td>0.0</td>\n      <td>0.0</td>\n      <td>0.0</td>\n      <td>0.0</td>\n      <td>0.0</td>\n      <td>0.0</td>\n      <td>0.0</td>\n      <td>0.0</td>\n      <td>0.0</td>\n      <td>0.0</td>\n      <td>0.0</td>\n      <td>0.0</td>\n      <td>0.0</td>\n      <td>0.0</td>\n      <td>0.0</td>\n      <td>0.0</td>\n      <td>0.0</td>\n      <td>0.0</td>\n      <td>0.0</td>\n      <td>0.0</td>\n      <td>0.0</td>\n      <td>0.0</td>\n      <td>0.0</td>\n      <td>0.0</td>\n      <td>0.0</td>\n      <td>0.0</td>\n    </tr>\n  </tbody>\n</table>\n</div>"
          },
          "metadata": {}
        }
      ]
    },
    {
      "metadata": {
        "trusted": true,
        "scrolled": true,
        "_uuid": "4c9c58fdceb8e95525fa879e6b6d1e55557a6241"
      },
      "cell_type": "code",
      "source": "print(test.dtypes)\n#テスト、訓練ともに欠損はなし。ただし項目数が4992と多すぎるうえに何を意味してるかわからないため、何とか意味のある項目を絞りたい。\nprint(test.isnull().sum()[test.isnull().sum()!=0])\nprint(train.isnull().sum()[train.isnull().sum()!=0])\n#id以外はobject型ではない\nprint(train.dtypes[train.dtypes==\"object\"])",
      "execution_count": null,
      "outputs": [
        {
          "output_type": "stream",
          "text": "ID            object\n48df886f9    float64\n0deb4b6a8    float64\n34b15f335    float64\na8cb14b00    float64\n2f0771a37    float64\n30347e683    float64\nd08d1fbe3    float64\n6ee66e115    float64\n20aa07010    float64\ndc5a8f1d8    float64\n11d86fa6a    float64\n77c9823f2    float64\n8d6c2a0b2    float64\n4681de4fd    float64\nadf119b9a    float64\ncff75dd09    float64\n96f83a237    float64\nb8a716ebf    float64\n6c7a4567c    float64\n4fcfd2b4d    float64\nf3b9c0b95    float64\n71cebf11c    float64\nd966ac62c    float64\n68b647452    float64\nc88d108c9    float64\nff7b471cd    float64\nd5308d8bc    float64\n0d866c3d7    float64\nbc3f77679    float64\n              ...   \ncdfc2b069    float64\n2a879b4f7    float64\n6b119d8ce    float64\n98dea9e42    float64\n9f2471031    float64\n88458cb21    float64\nf40da20f4    float64\n7ad6b38bd    float64\nc901e7df1    float64\n8f55955dc    float64\n85dcc913d    float64\n5ca0b9b0c    float64\neab8abf7a    float64\n8d8bffbae    float64\n2a1f6c7f9    float64\n9437d8b64    float64\n5831f4c76    float64\n2e84e09c5    float64\nd45fd5508    float64\na165f5761    float64\n3ecc09859    float64\n9281abeea    float64\n8675bec0b    float64\n3a13ed79a    float64\nf677d4d13    float64\n71b203550    float64\n137efaa80    float64\nfb36b89d9    float64\n7e293fbaf    float64\n9fc776466    float64\nLength: 4992, dtype: object\n",
          "name": "stdout"
        }
      ]
    },
    {
      "metadata": {
        "trusted": true,
        "_uuid": "f98d82b089f481947a9ac0765dd9e35ce63ae8d6",
        "scrolled": true
      },
      "cell_type": "code",
      "source": "#相関係数行列の作成\ncor_table=train.corr()",
      "execution_count": null,
      "outputs": []
    },
    {
      "metadata": {
        "trusted": true,
        "_uuid": "2c9934492a692611f11de8b7193c078c049efafc",
        "scrolled": true
      },
      "cell_type": "code",
      "source": "#相関行列にすべてNaNの列がある→その項目は全データ同じものなので、落とすことにする\ndrop_list=[]\nfor i in cor_table.columns:\n    if len(cor_table[cor_table[i].notnull()])==0:\n        drop_list.append(i)\n\ntrain.drop(drop_list,axis=1,inplace=True)\ntest.drop(drop_list,axis=1,inplace=True)",
      "execution_count": null,
      "outputs": []
    },
    {
      "metadata": {
        "trusted": true,
        "_uuid": "0f18df2727a75c6865a7aa8a72635733b51fe2ac"
      },
      "cell_type": "code",
      "source": "print(len(train.columns))\nprint(len(test.columns))",
      "execution_count": null,
      "outputs": []
    },
    {
      "metadata": {
        "trusted": true,
        "_uuid": "7d99cad80f90ea5fddb43382d350d6e4e5f6250c"
      },
      "cell_type": "code",
      "source": "#相関係数が一定以上の変数を削除する関数\n#今回は変数間で相関係数が0.7以上の変数の組み合わせのうち、被説明変数のtargetとの相関係数が低いほうの項目を削除する\n\nover_list=[]\nsmall=[]\nvalue=0.7\n\nfor j in cor_table.columns:\n    overs=list(cor_table[cor_table[j]>value].index)\n    for over in overs:\n        if [j,over] not in over_list and [over,j] not in over_list and j!=over:\n            over_list.append([j,over])\n            if cor_table.loc[j,\"target\"] <= cor_table.loc[over,\"target\"]:\n                small.append(j)\n            else:\n                small.append(over)\nprint(small)",
      "execution_count": null,
      "outputs": []
    },
    {
      "metadata": {
        "trusted": true,
        "_uuid": "8efe8f8ce0f7f6e23619e78efc02dec3fac081fc"
      },
      "cell_type": "code",
      "source": "#listの重複を消す\nsmall=list(set(small))\n\n#上で作った変数を削除する\ntrain.drop(small,axis=1,inplace=True)\ntest.drop(small,axis=1,inplace=True)",
      "execution_count": null,
      "outputs": []
    },
    {
      "metadata": {
        "trusted": true,
        "_uuid": "6de29233c918ac6147278ba2937fb53cc47f17af"
      },
      "cell_type": "code",
      "source": "print(len(train.columns))\nprint(len(test.columns))",
      "execution_count": null,
      "outputs": []
    },
    {
      "metadata": {
        "trusted": true,
        "_uuid": "c8f16bee96d01bba4c24d37468f0946d23748772"
      },
      "cell_type": "code",
      "source": "#まだまだ項目が多いので、randomforestで影響が大きいものに絞る\nfrom sklearn.feature_selection import SelectFromModel\nfrom sklearn.ensemble import RandomForestRegressor\n\ntrain_x=train.drop([\"ID\",\"target\"],axis=1)\ntrain_y=train[\"target\"]\nselector = SelectFromModel(RandomForestRegressor(n_estimators=100, random_state=42), threshold=\"3*median\")\nselector.fit(train_x, train_y)\nx_selected = selector.transform(train_x)\ntest_selected=selector.transform(test.drop(\"ID\",axis=1))",
      "execution_count": null,
      "outputs": []
    },
    {
      "metadata": {
        "trusted": true,
        "_uuid": "d53446c6d3b29e1add609bd01f202eeeda7f1915"
      },
      "cell_type": "code",
      "source": "#項目数は1244まで絞り込まれた\nprint(x_selected.shape)\nprint(test_selected.shape)",
      "execution_count": null,
      "outputs": []
    },
    {
      "metadata": {
        "trusted": true,
        "_uuid": "7882a72ca7e61d717fbb66659bce21c00781bc8b"
      },
      "cell_type": "code",
      "source": "#ランダムフォレスト回帰\nfrom sklearn import grid_search\n\nforest=RandomForestRegressor(random_state=2)\n\n# 試行するパラメータを羅列する\nparams = {'n_estimators'  : [100],'n_jobs': [-1]}\n\nrf = grid_search.GridSearchCV(\n    forest,\n    param_grid=params,  \n    cv=3 \n    )\n\n# グリッドサーチで優れたハイパーパラメータを探す\nrf.fit(x_selected, train_y.ravel())\n    \nresult=rf.predict(test_selected)\n\n#  提出する\nsubmission = pd.DataFrame({\n        \"Id\": test[\"ID\"],\n        \"target\": result\n    })\n\n#  csv形式のファイルに出力\nsubmission.to_csv(\"submission_rf.csv\", index=False)",
      "execution_count": null,
      "outputs": []
    },
    {
      "metadata": {
        "trusted": true,
        "_uuid": "ad3cc69868e6fa1240579b05fef53613d4bf23d5"
      },
      "cell_type": "code",
      "source": "#クロスバリデーションの結果\nfrom sklearn import cross_validation\nscores=cross_validation.cross_val_score(rf,x_selected,train_y.ravel(),cv=10)\nprint(\"交差検証:n=10\",np.mean(scores))",
      "execution_count": null,
      "outputs": []
    }
  ],
  "metadata": {
    "kernelspec": {
      "display_name": "Python 3",
      "language": "python",
      "name": "python3"
    },
    "language_info": {
      "name": "python",
      "version": "3.6.6",
      "mimetype": "text/x-python",
      "codemirror_mode": {
        "name": "ipython",
        "version": 3
      },
      "pygments_lexer": "ipython3",
      "nbconvert_exporter": "python",
      "file_extension": ".py"
    }
  },
  "nbformat": 4,
  "nbformat_minor": 1
}